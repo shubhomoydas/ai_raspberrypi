{
 "cells": [
  {
   "cell_type": "code",
   "execution_count": 1,
   "id": "bfa7c94c-efa6-4595-b5e5-737f91c0f0e7",
   "metadata": {},
   "outputs": [],
   "source": [
    "import os\n",
    "import json\n",
    "from pprint import pprint, pformat\n",
    "from experiments.audio_control import *\n",
    "from experiments.motor_control import *\n",
    "\n",
    "CLAUDE_API_URL = os.getenv(\"CLAUDE_API_URL\")\n",
    "CLAUDE_API_KEY = os.getenv(\"CLAUDE_API_KEY\")\n",
    "CLAUDE_API_VER = os.getenv(\"CLAUDE_API_VER\")\n",
    "OPENAI_API_KEY = os.getenv(\"OPENAI_API_KEY\")"
   ]
  },
  {
   "cell_type": "code",
   "execution_count": 3,
   "id": "ce4a5626-a9b3-43c4-831a-4fda9478ddbb",
   "metadata": {},
   "outputs": [
    {
     "name": "stdout",
     "output_type": "stream",
     "text": [
      "Please turn left and then turn right twice.\n",
      "{'blocking': True, 'degrees': 90, 'name': 'run_for_degrees', 'speed': -50}\n",
      "{'blocking': True, 'degrees': 90, 'name': 'run_for_degrees', 'speed': 50}\n",
      "{'blocking': True, 'degrees': 90, 'name': 'run_for_degrees', 'speed': 50}\n",
      "[{'Action': {'blocking': True,\n",
      "             'degrees': 90,\n",
      "             'name': 'run_for_degrees',\n",
      "             'speed': -50},\n",
      "  'Thought': 'I need to break this down into three steps: 1) turn left (90 '\n",
      "             'degrees), 2) turn right (90 degrees), and 3) turn right again '\n",
      "             \"(90 degrees). Since turning involves rotation, I'll use \"\n",
      "             \"run_for_degrees. For left turn, I'll use negative speed, and for \"\n",
      "             'right turns, positive speed.'},\n",
      " {'Action': {'blocking': True,\n",
      "             'degrees': 90,\n",
      "             'name': 'run_for_degrees',\n",
      "             'speed': 50},\n",
      "  'Thought': 'Good, the left turn is complete. Now I need to execute the first '\n",
      "             'right turn.'},\n",
      " {'Action': {'blocking': True,\n",
      "             'degrees': 90,\n",
      "             'name': 'run_for_degrees',\n",
      "             'speed': 50},\n",
      "  'Thought': 'The first right turn is complete. Now I need to execute the '\n",
      "             'second right turn.'}]\n"
     ]
    }
   ],
   "source": [
    "# byte_stream = get_audio_instruction()\n",
    "# task = transcribe(byte_stream)\n",
    "task = \"Please turn left and then turn right twice.\"\n",
    "print(task)\n",
    "\n",
    "dummy_motor, dummy_funcs = get_motor_funcs(dummy=True)\n",
    "# real_motor, real_funcs = get_motor_funcs(dummy=False)\n",
    "\n",
    "thought_actions, answer, messages = get_action_steps(task, funcs=dummy_funcs)\n",
    "pprint(thought_actions)\n",
    "\n",
    "if False:\n",
    "    for thought_action in thought_actions:\n",
    "        step = thought_action.get(\"Action\")\n",
    "        obs = invoke_tool(step, real_funcs)\n",
    "    \n",
    "    if answer:\n",
    "        print(f\"Final answer: {answer}\")"
   ]
  },
  {
   "cell_type": "code",
   "execution_count": 5,
   "id": "8d312f88-db33-4e9a-8bb7-b652284e48af",
   "metadata": {},
   "outputs": [
    {
     "name": "stdin",
     "output_type": "stream",
     "text": [
      "Press [return] to speak, or 'q' to exit:  \n"
     ]
    },
    {
     "name": "stdout",
     "output_type": "stream",
     "text": [
      "Start recording...\n",
      "End recording...\n",
      "Time for transcription: 2.905647 secs\n",
      "\n",
      "Task: Turn left then turn right.\n",
      "\n",
      "{'blocking': True, 'degrees': -90, 'name': 'run_for_degrees', 'speed': 50}\n",
      "{'blocking': True, 'degrees': 90, 'name': 'run_for_degrees', 'speed': 50}\n",
      "\n",
      "Thought: I need to turn left first, which means turning -90 degrees, and then turn right which means turning 90 degrees. I'll use run_for_degrees for both turns.\n",
      "Action: {'name': 'run_for_degrees', 'degrees': -90, 'speed': 50, 'blocking': True}\n",
      "\n",
      "\n",
      "Thought: Now that the left turn is complete, I need to turn right by 90 degrees.\n",
      "Action: {'name': 'run_for_degrees', 'degrees': 90, 'speed': 50, 'blocking': True}\n",
      "\n",
      "Final answer: Turned left by 90 degrees and then turned right by 90 degrees using run_for_degrees tool.\n"
     ]
    },
    {
     "name": "stdin",
     "output_type": "stream",
     "text": [
      "Press [return] to speak, or 'q' to exit:  q\n"
     ]
    },
    {
     "name": "stdout",
     "output_type": "stream",
     "text": [
      "'q' pressed... Exiting\n"
     ]
    }
   ],
   "source": [
    "# task = \"Please turn left.\"\n",
    "\n",
    "def control(real_funcs, dummy_funcs):\n",
    "    \"\"\" Runs an audio input loop\n",
    "\n",
    "    Args:\n",
    "        :param real_funcs: dict\n",
    "            References to motor functions to actually perform the physical actions\n",
    "        :param dummy_funcs: dict\n",
    "            References to dummy motor functions that will be used to only generate execution plans\n",
    "    \n",
    "    Loops over the following steps:\n",
    "        1. Prints 'Press [return] to speak, or 'q' to exit: ' and waits for user input\n",
    "        2. If user inputs `q` in step 1, then program quits\n",
    "        3. If user presses `[return]` key in setp 1, then program starts recording 4 secs audio\n",
    "        4. Recorded audio is transcribed to text and the text is set as the task\n",
    "        5. The transcribed text is converted back to audio and output through speaker; user is asked to confirm the task\n",
    "        6. If user confirms, a plan is generated for the task (transcribed text)\n",
    "        7. The plan is executed\n",
    "        8. Final result of the task is announced through audio speaker\n",
    "        9. Go to Step 1\n",
    "    \"\"\"\n",
    "    answer = None\n",
    "    for i in range(5):\n",
    "        inp = input(\"Press [return] to speak, or 'q' to exit: \")\n",
    "        \n",
    "        if inp.lower().startswith(\"q\"):\n",
    "            print(\"'q' pressed... Exiting\")\n",
    "            break\n",
    "        \n",
    "        byte_stream = get_audio_instruction(duration=4)\n",
    "        task = transcribe(byte_stream)\n",
    "        print(f\"\\nTask: {task}\\n\")\n",
    "        if True:\n",
    "            audio = speak(f\"You said: {task}. Is that correct?\")\n",
    "            confirm = input(\"[y/n]: \")\n",
    "            if not(confirm.lower() == \"y\"):\n",
    "                continue\n",
    "            else:\n",
    "                print(\"proceeding with operating motor...\")\n",
    "        thought_actions, answer, messages = get_action_steps(task, funcs=dummy_funcs)\n",
    "        for thought_action in thought_actions:\n",
    "            thought = thought_action.get(\"Thought\")\n",
    "            step = thought_action.get(\"Action\")\n",
    "            print(f\"\\nThought: {thought}\")\n",
    "            print(f\"Action: {step}\\n\")\n",
    "            if not (error := step.get(\"error\")):\n",
    "                obs = invoke_tool(step, real_funcs)\n",
    "                # obs = invoke_tool(step, dummy_funcs)\n",
    "            else:\n",
    "                print(f\"Error in executing step: {error}\")\n",
    "        \n",
    "        if answer:\n",
    "            print(f\"Final answer: {answer}\")\n",
    "            audio = speak(answer)\n",
    "\n",
    "\n",
    "if False:\n",
    "    \n",
    "    dummy_motor, dummy_funcs = get_motor_funcs(dummy=True)\n",
    "    real_motor, real_funcs = get_motor_funcs(dummy=False)\n",
    "    \n",
    "    print(f\"Motor connected: {real_motor.connected}\")\n",
    "    \n",
    "    \n",
    "    control(real_funcs, dummy_funcs)\n",
    "    print(\"Turning off the motor...\")\n",
    "    real_motor.off()"
   ]
  },
  {
   "cell_type": "code",
   "execution_count": null,
   "id": "4df81da4-c6c7-4641-a20c-48bb949e4655",
   "metadata": {},
   "outputs": [],
   "source": []
  }
 ],
 "metadata": {
  "kernelspec": {
   "display_name": "Python 3 (ipykernel)",
   "language": "python",
   "name": "python3"
  },
  "language_info": {
   "codemirror_mode": {
    "name": "ipython",
    "version": 3
   },
   "file_extension": ".py",
   "mimetype": "text/x-python",
   "name": "python",
   "nbconvert_exporter": "python",
   "pygments_lexer": "ipython3",
   "version": "3.11.2"
  }
 },
 "nbformat": 4,
 "nbformat_minor": 5
}
